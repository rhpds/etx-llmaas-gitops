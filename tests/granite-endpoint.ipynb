{
 "cells": [
  {
   "cell_type": "markdown",
   "id": "6bb4203e-c8c4-48d3-a848-dbf068836d1f",
   "metadata": {},
   "source": [
    "### Using Curl"
   ]
  },
  {
   "cell_type": "code",
   "execution_count": null,
   "id": "ecabac41-e137-4246-b32d-c8b47364b38f",
   "metadata": {
    "tags": []
   },
   "outputs": [],
   "source": [
    "%%bash\n",
    "curl -X 'POST' \\\n",
    "  'https://granite-8b-code-instruct-maas-apicast-production.apps.prod.rhoai.rh-aiservices-bu.com:443/v1/completions' \\\n",
    "  -H 'accept: application/json' \\\n",
    "  -H 'Content-Type: application/json' \\\n",
    "  -H 'Authorization: Bearer ***************************' \\\n",
    "  -d '{\n",
    "  \"model\": \"granite-8b-code-instruct-128k\",\n",
    "  \"prompt\": \"San Francisco is a\",\n",
    "  \"max_tokens\": 15,\n",
    "  \"temperature\": 0\n",
    "}'"
   ]
  },
  {
   "cell_type": "markdown",
   "id": "72a8c5dc-ddda-475d-91bb-622df73ad718",
   "metadata": {},
   "source": [
    "### Using raw Python"
   ]
  },
  {
   "cell_type": "code",
   "execution_count": null,
   "id": "3cbfad1d-f22c-4fc8-8cc4-10dbc0308cf0",
   "metadata": {
    "tags": []
   },
   "outputs": [],
   "source": [
    "import requests\n",
    "import urllib3\n",
    "import numpy as np\n",
    "import json\n",
    "\n",
    "API_URL = \"https://granite-8b-code-instruct-maas-apicast-production.apps.prod.rhoai.rh-aiservices-bu.com:443\"\n",
    "API_KEY = \"***************************\"\n",
    "\n",
    "input = [\"San Francisco is a\"]\n",
    "\n",
    "completion = requests.post(\n",
    "    url=API_URL+'/v1/completions',\n",
    "    json={\n",
    "      \"model\": \"granite-8b-code-instruct-128k\",\n",
    "      \"prompt\": \"San Francisco is a\",\n",
    "      \"max_tokens\": 15,\n",
    "      \"temperature\": 0\n",
    "    },\n",
    "    headers={'Authorization': 'Bearer '+API_KEY}\n",
    ").json()\n",
    "\n",
    "print(completion)"
   ]
  },
  {
   "cell_type": "markdown",
   "id": "1e4d1f91-e73f-48d8-8ca3-c3ce00d7a184",
   "metadata": {},
   "source": [
    "### Using Langchain"
   ]
  },
  {
   "cell_type": "code",
   "execution_count": null,
   "id": "2ba52f6c-fc06-47d9-99a7-2df61bd250b7",
   "metadata": {
    "tags": []
   },
   "outputs": [],
   "source": [
    "pip install langchain-community"
   ]
  },
  {
   "cell_type": "code",
   "execution_count": null,
   "id": "f4d120a5-40b2-4ab4-a321-5e5bbd4c457e",
   "metadata": {
    "tags": []
   },
   "outputs": [],
   "source": [
    "from langchain_community.llms import VLLMOpenAI\n",
    "\n",
    "API_URL = \"https://granite-8b-code-instruct-maas-apicast-production.apps.prod.rhoai.rh-aiservices-bu.com:443\"\n",
    "API_KEY = \"***************************\"\n",
    "\n",
    "llm = VLLMOpenAI(\n",
    "    openai_api_key=API_KEY,\n",
    "    openai_api_base=API_URL+\"/v1\",\n",
    "    model_name=\"granite-8b-code-instruct-128k\",\n",
    "    model_kwargs={\"stop\": [\".\"]},\n",
    ")\n",
    "print(llm.invoke(\"Rome is\"))"
   ]
  }
 ],
 "metadata": {
  "kernelspec": {
   "display_name": "Python 3.9",
   "language": "python",
   "name": "python3"
  },
  "language_info": {
   "codemirror_mode": {
    "name": "ipython",
    "version": 3
   },
   "file_extension": ".py",
   "mimetype": "text/x-python",
   "name": "python",
   "nbconvert_exporter": "python",
   "pygments_lexer": "ipython3",
   "version": "3.9.18"
  }
 },
 "nbformat": 4,
 "nbformat_minor": 5
}
